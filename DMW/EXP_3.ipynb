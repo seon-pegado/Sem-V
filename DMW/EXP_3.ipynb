{
  "nbformat": 4,
  "nbformat_minor": 0,
  "metadata": {
    "colab": {
      "provenance": [],
      "authorship_tag": "ABX9TyM4GZL1V4JDShCktoNy8R2A",
      "include_colab_link": true
    },
    "kernelspec": {
      "name": "python3",
      "display_name": "Python 3"
    },
    "language_info": {
      "name": "python"
    }
  },
  "cells": [
    {
      "cell_type": "markdown",
      "metadata": {
        "id": "view-in-github",
        "colab_type": "text"
      },
      "source": [
        "<a href=\"https://colab.research.google.com/github/seon-pegado/Sem-V/blob/main/DMW/EXP_3.ipynb\" target=\"_parent\"><img src=\"https://colab.research.google.com/assets/colab-badge.svg\" alt=\"Open In Colab\"/></a>"
      ]
    },
    {
      "cell_type": "code",
      "source": [
        "from google.colab import drive\n",
        "drive.mount('/content/drive')"
      ],
      "metadata": {
        "colab": {
          "base_uri": "https://localhost:8080/"
        },
        "id": "JDIh7hgl8Dde",
        "outputId": "d9838f32-1d5a-4cde-ba98-bf07ddb478c6"
      },
      "execution_count": 2,
      "outputs": [
        {
          "output_type": "stream",
          "name": "stdout",
          "text": [
            "Mounted at /content/drive\n"
          ]
        }
      ]
    },
    {
      "cell_type": "code",
      "source": [
        "import pandas as pd\n",
        "import numpy as np\n",
        "import matplotlib.pyplot as plt\n",
        "import seaborn as sns\n",
        "from sklearn.model_selection import train_test_split\n",
        "from sklearn.tree import DecisionTreeClassifier\n",
        "from sklearn.naive_bayes import GaussianNB\n",
        "%matplotlib inline"
      ],
      "metadata": {
        "id": "gXiEjf6P8Eil"
      },
      "execution_count": null,
      "outputs": []
    },
    {
      "cell_type": "markdown",
      "source": [
        "# IRIS FLOWER CLASSIFICATION :"
      ],
      "metadata": {
        "id": "b9JAP7V3WTCj"
      }
    },
    {
      "cell_type": "code",
      "source": [
        "iris = sns.load_dataset('iris')\n",
        "iris.head()\n",
        "\n",
        "#Split the dataframe in X and y\n",
        "X = iris.drop('species', axis = 1)\n",
        "y  = iris['species']\n",
        "\n",
        "# Unique vlaues in  the label\n",
        "np.unique(iris['species'])\n",
        "\n",
        "# Train test split\n",
        "X_train, X_test, y_train, y_test = train_test_split(X, y, test_size= 0.2, random_state = 42)\n",
        "\n",
        "# Decision Tree\n",
        "clf1_DT = DecisionTreeClassifier(criterion = 'entropy', random_state = 42)\n",
        "clf1_DT.fit(X_train, y_train)\n",
        "DT_acc1 = clf1_DT.score(X_test, y_test)\n",
        "print(f'Decision Tree Accuracy = {DT_acc1}')\n",
        "\n",
        "# Naive Bayes\n",
        "clf1_NB = GaussianNB()\n",
        "clf1_NB.fit(X_train, y_train)\n",
        "NB_acc1 = clf1_NB.score(X_test, y_test)\n",
        "print(f'Naive Bayes Accuracy = {NB_acc1}')\n",
        "\n",
        "# Bar plot\n",
        "plt.bar(['Decision_Tree', 'Naive_Bayes'], [DT_acc1, NB_acc1]);"
      ],
      "metadata": {
        "colab": {
          "base_uri": "https://localhost:8080/",
          "height": 482
        },
        "id": "aqT82b6f8kSl",
        "outputId": "2277699a-73c5-4023-b633-3d628c2b52ba"
      },
      "execution_count": null,
      "outputs": [
        {
          "output_type": "stream",
          "name": "stdout",
          "text": [
            "Decision Tree Accuracy = 1.0\n",
            "Naive Bayes Accuracy = 1.0\n"
          ]
        },
        {
          "output_type": "execute_result",
          "data": {
            "text/plain": [
              "<BarContainer object of 2 artists>"
            ]
          },
          "metadata": {},
          "execution_count": 3
        },
        {
          "output_type": "display_data",
          "data": {
            "text/plain": [
              "<Figure size 640x480 with 1 Axes>"
            ],
            "image/png": "[encoded data removed]"
          },
          "metadata": {}
        }
      ]
    },
    {
      "cell_type": "markdown",
      "source": [
        "# GLASS CLASSIFICATION :"
      ],
      "metadata": {
        "id": "grfN-x2rWHQq"
      }
    },
    {
      "cell_type": "code",
      "source": [
        "df2 = pd.read_csv('/content/drive/MyDrive/Data/glass.csv')\n",
        "df2.head()\n",
        "\n",
        "# Split the dataframe in X and y\n",
        "X = df2.drop('Type', axis = 1)\n",
        "y = df2['Type']\n",
        "\n",
        "# Train and test split\n",
        "X_train, X_test, y_train, y_test = train_test_split(X, y, test_size = 0.2, random_state = 42)\n",
        "\n",
        "# Decision Tree\n",
        "clf2_DT = DecisionTreeClassifier(criterion = 'entropy', random_state = 42)\n",
        "clf2_DT.fit(X_train, y_train)\n",
        "DT_acc2 = clf2_DT.score(X_test, y_test)\n",
        "print(f'Decision Tree Accuracy = {DT_acc2}')\n",
        "\n",
        "# Naive Bayes\n",
        "clf2_NB = GaussianNB()\n",
        "clf2_NB.fit(X_train, y_train)\n",
        "NB_acc2 = clf2_NB.score(X_test, y_test)\n",
        "print(f'Naive Bayes Accuracy = {NB_acc2}')\n",
        "\n",
        "# Bar Plot\n",
        "plt.bar(['Decision_Tree', 'Naive_Bayes'], [DT_acc2, NB_acc2])"
      ],
      "metadata": {
        "colab": {
          "base_uri": "https://localhost:8080/",
          "height": 485
        },
        "id": "zQmAr48vNgVT",
        "outputId": "aa549ad7-90f6-475d-8a2a-055019c2bee0"
      },
      "execution_count": null,
      "outputs": [
        {
          "output_type": "stream",
          "name": "stdout",
          "text": [
            "Decision Tree Accuracy = 0.7674418604651163\n",
            "Naive Bayes Accuracy = 0.5581395348837209\n"
          ]
        },
        {
          "output_type": "execute_result",
          "data": {
            "text/plain": [
              "<BarContainer object of 2 artists>"
            ]
          },
          "metadata": {},
          "execution_count": 4
        },
        {
          "output_type": "display_data",
          "data": {
            "text/plain": [
              "<Figure size 640x480 with 1 Axes>"
            ],
            "image/png": "[encoded data removed]"
          },
          "metadata": {}
        }
      ]
    },
    {
      "cell_type": "markdown",
      "source": [
        "# Predictive Maintenance\n"
      ],
      "metadata": {
        "id": "wWL9yy7e6__-"
      }
    },
    {
      "cell_type": "code",
      "source": [
        "df3 = pd.read_csv('/content/drive/MyDrive/Data/predictive_maintenance.csv')\n",
        "df3.head()\n",
        "\n",
        "X = df3.drop(['UDI', 'Product ID', 'Type', 'Failure Type'], axis = 1)\n",
        "y = df3['Failure Type']\n",
        "\n",
        "X_train, X_test,  y_train, y_test = train_test_split(X, y, test_size=0.2)\n",
        "\n",
        "clf3_DT = DecisionTreeClassifier(criterion = 'entropy', random_state = 42)\n",
        "clf3_DT.fit(X_train, y_train)\n",
        "DT_acc3 = clf3_DT.score(X_test, y_test)\n",
        "print(f'Decision Tree Accuracy = {DT_acc3}')\n",
        "\n",
        "# Naive Bayes\n",
        "clf3_NB = GaussianNB()\n",
        "clf3_NB.fit(X_train, y_train)\n",
        "NB_acc3 = clf3_NB.score(X_test, y_test)\n",
        "print(f'Naive Bayes Accuracy = {NB_acc3}')\n",
        "\n",
        "# Bar Plot\n",
        "plt.bar(['Decision_Tree', 'Naive_Bayes'], [DT_acc3, NB_acc3])"
      ],
      "metadata": {
        "id": "EgBogvBdXook",
        "colab": {
          "base_uri": "https://localhost:8080/",
          "height": 482
        },
        "outputId": "fe98c26c-780f-4359-a953-57234949c14b"
      },
      "execution_count": null,
      "outputs": [
        {
          "output_type": "stream",
          "name": "stdout",
          "text": [
            "Decision Tree Accuracy = 0.9905\n",
            "Naive Bayes Accuracy = 0.992\n"
          ]
        },
        {
          "output_type": "execute_result",
          "data": {
            "text/plain": [
              "<BarContainer object of 2 artists>"
            ]
          },
          "metadata": {},
          "execution_count": 11
        },
        {
          "output_type": "display_data",
          "data": {
            "text/plain": [
              "<Figure size 640x480 with 1 Axes>"
            ],
            "image/png": "[encoded data removed]"
          },
          "metadata": {}
        }
      ]
    },
    {
      "cell_type": "markdown",
      "source": [
        "# Star  Classification :"
      ],
      "metadata": {
        "id": "6AQmFsOk7FnO"
      }
    },
    {
      "cell_type": "code",
      "source": [
        "df4 = pd.read_csv('/content/drive/MyDrive/Data/star_classification.csv')\n",
        "X = df4.drop('class', axis = 1)\n",
        "y = df4['class']\n",
        "\n",
        "X_train, X_test,  y_train, y_test = train_test_split(X, y, test_size=0.2)\n",
        "\n",
        "clf4_DT = DecisionTreeClassifier(criterion = 'entropy', random_state = 42)\n",
        "clf4_DT.fit(X_train, y_train)\n",
        "DT_acc4 = clf4_DT.score(X_test, y_test)\n",
        "print(f'Decision Tree Accuracy = {DT_acc4}')\n",
        "\n",
        "# Naive Bayes\n",
        "clf4_NB = GaussianNB()\n",
        "clf4_NB.fit(X_train, y_train)\n",
        "NB_acc4 = clf4_NB.score(X_test, y_test)\n",
        "print(f'Naive Bayes Accuracy = {NB_acc4}')\n",
        "\n",
        "# Bar Plot\n",
        "plt.bar(['Decision_Tree', 'Naive_Bayes'], [DT_acc4, NB_acc4])"
      ],
      "metadata": {
        "colab": {
          "base_uri": "https://localhost:8080/",
          "height": 482
        },
        "id": "7X00AaHw5wu3",
        "outputId": "43f2831a-e6cb-40df-c638-f950828bd39c"
      },
      "execution_count": null,
      "outputs": [
        {
          "output_type": "stream",
          "name": "stdout",
          "text": [
            "Decision Tree Accuracy = 0.9654\n",
            "Naive Bayes Accuracy = 0.6012\n"
          ]
        },
        {
          "output_type": "execute_result",
          "data": {
            "text/plain": [
              "<BarContainer object of 2 artists>"
            ]
          },
          "metadata": {},
          "execution_count": 15
        },
        {
          "output_type": "display_data",
          "data": {
            "text/plain": [
              "<Figure size 640x480 with 1 Axes>"
            ],
            "image/png": "[encoded data removed]"
          },
          "metadata": {}
        }
      ]
    },
    {
      "cell_type": "markdown",
      "source": [
        "# Dermatology:"
      ],
      "metadata": {
        "id": "bPb6_ygc7LA-"
      }
    },
    {
      "cell_type": "code",
      "source": [
        "df5 = pd.read_csv('/content/drive/MyDrive/Data/dermatology_database_1.csv')\n",
        "X = df5.drop(['class','age'], axis = 1)\n",
        "y = df5['class']\n",
        "\n",
        "X_train, X_test,  y_train, y_test = train_test_split(X, y, test_size=0.2)\n",
        "\n",
        "clf5_DT = DecisionTreeClassifier(criterion = 'entropy', random_state = 42)\n",
        "clf5_DT.fit(X_train, y_train)\n",
        "DT_acc5 = clf5_DT.score(X_test, y_test)\n",
        "print(f'Decision Tree Accuracy = {DT_acc5}')\n",
        "\n",
        "# Naive Bayes\n",
        "clf5_NB = GaussianNB()\n",
        "clf5_NB.fit(X_train, y_train)\n",
        "NB_acc5 = clf5_NB.score(X_test, y_test)\n",
        "print(f'Naive Bayes Accuracy = {NB_acc5}')\n",
        "\n",
        "# Bar Plot\n",
        "plt.bar(['Decision_Tree', 'Naive_Bayes'], [DT_acc5, NB_acc5])"
      ],
      "metadata": {
        "colab": {
          "base_uri": "https://localhost:8080/",
          "height": 482
        },
        "id": "vpTJE9eY6bGv",
        "outputId": "5c122419-76c9-411a-a3e9-07fdee34d3ec"
      },
      "execution_count": null,
      "outputs": [
        {
          "output_type": "stream",
          "name": "stdout",
          "text": [
            "Decision Tree Accuracy = 0.972972972972973\n",
            "Naive Bayes Accuracy = 0.8783783783783784\n"
          ]
        },
        {
          "output_type": "execute_result",
          "data": {
            "text/plain": [
              "<BarContainer object of 2 artists>"
            ]
          },
          "metadata": {},
          "execution_count": 21
        },
        {
          "output_type": "display_data",
          "data": {
            "text/plain": [
              "<Figure size 640x480 with 1 Axes>"
            ],
            "image/png": "[encoded data removed]"
          },
          "metadata": {}
        }
      ]
    },
    {
      "cell_type": "code",
      "source": [
        "df5.dtypes\n"
      ],
      "metadata": {
        "colab": {
          "base_uri": "https://localhost:8080/"
        },
        "id": "xXBFZk0f7PZu",
        "outputId": "22e27561-7f79-4b06-f75d-15912d5e6cb2"
      },
      "execution_count": null,
      "outputs": [
        {
          "output_type": "execute_result",
          "data": {
            "text/plain": [
              "erythema                                int64\n",
              "scaling                                 int64\n",
              "definite_borders                        int64\n",
              "itching                                 int64\n",
              "koebner_phenomenon                      int64\n",
              "polygonal_papules                       int64\n",
              "follicular_papules                      int64\n",
              "oral_mucosal_involvement                int64\n",
              "knee_and_elbow_involvement              int64\n",
              "scalp_involvement                       int64\n",
              "family_history                          int64\n",
              "melanin_incontinence                    int64\n",
              "eosinophils_infiltrate                  int64\n",
              "PNL_infiltrate                          int64\n",
              "fibrosis_papillary_dermis               int64\n",
              "exocytosis                              int64\n",
              "acanthosis                              int64\n",
              "hyperkeratosis                          int64\n",
              "parakeratosis                           int64\n",
              "clubbing_rete_ridges                    int64\n",
              "elongation_rete_ridges                  int64\n",
              "thinning_suprapapillary_epidermis       int64\n",
              "spongiform_pustule                      int64\n",
              "munro_microabcess                       int64\n",
              "focal_hypergranulosis                   int64\n",
              "disappearance_granular_layer            int64\n",
              "vacuolisation_damage_basal_layer        int64\n",
              "spongiosis                              int64\n",
              "saw_tooth_appearance_retes              int64\n",
              "follicular_horn_plug                    int64\n",
              "perifollicular_parakeratosis            int64\n",
              "inflammatory_mononuclear_infiltrate     int64\n",
              "band_like_infiltrate                    int64\n",
              "age                                    object\n",
              "class                                   int64\n",
              "dtype: object"
            ]
          },
          "metadata": {},
          "execution_count": 20
        }
      ]
    },
    {
      "cell_type": "code",
      "source": [],
      "metadata": {
        "id": "z3iTe3iU7uE2"
      },
      "execution_count": null,
      "outputs": []
    }
  ]
}